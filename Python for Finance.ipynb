{
 "cells": [
  {
   "cell_type": "code",
   "execution_count": null,
   "metadata": {},
   "outputs": [],
   "source": [
    "import sys\n",
    "!{sys.executable} -m pip install yahoo-finance pandas_datareader requests"
   ]
  },
  {
   "cell_type": "markdown",
   "metadata": {},
   "source": [
    "# Get values from a stock\n",
    "Source : https://www.datacamp.com/courses/importing-managing-financial-data-in-python"
   ]
  },
  {
   "cell_type": "code",
   "execution_count": 2,
   "metadata": {},
   "outputs": [],
   "source": [
    "import pandas as pd\n",
    "from datetime import date, timedelta\n",
    "from pandas_datareader.data import DataReader\n",
    "\n",
    "import matplotlib.pyplot as plt"
   ]
  },
  {
   "cell_type": "markdown",
   "metadata": {},
   "source": [
    "## One ticker"
   ]
  },
  {
   "cell_type": "code",
   "execution_count": 3,
   "metadata": {},
   "outputs": [
    {
     "data": {
      "text/html": [
       "<div>\n",
       "<style scoped>\n",
       "    .dataframe tbody tr th:only-of-type {\n",
       "        vertical-align: middle;\n",
       "    }\n",
       "\n",
       "    .dataframe tbody tr th {\n",
       "        vertical-align: top;\n",
       "    }\n",
       "\n",
       "    .dataframe thead th {\n",
       "        text-align: right;\n",
       "    }\n",
       "</style>\n",
       "<table border=\"1\" class=\"dataframe\">\n",
       "  <thead>\n",
       "    <tr style=\"text-align: right;\">\n",
       "      <th></th>\n",
       "      <th>High</th>\n",
       "      <th>Low</th>\n",
       "      <th>Open</th>\n",
       "      <th>Close</th>\n",
       "      <th>Volume</th>\n",
       "      <th>Adj Close</th>\n",
       "    </tr>\n",
       "    <tr>\n",
       "      <th>Date</th>\n",
       "      <th></th>\n",
       "      <th></th>\n",
       "      <th></th>\n",
       "      <th></th>\n",
       "      <th></th>\n",
       "      <th></th>\n",
       "    </tr>\n",
       "  </thead>\n",
       "  <tbody>\n",
       "    <tr>\n",
       "      <th>2019-04-25</th>\n",
       "      <td>207.759995</td>\n",
       "      <td>205.119995</td>\n",
       "      <td>206.830002</td>\n",
       "      <td>205.279999</td>\n",
       "      <td>18543200.0</td>\n",
       "      <td>205.279999</td>\n",
       "    </tr>\n",
       "  </tbody>\n",
       "</table>\n",
       "</div>"
      ],
      "text/plain": [
       "                  High         Low        Open       Close      Volume  \\\n",
       "Date                                                                     \n",
       "2019-04-25  207.759995  205.119995  206.830002  205.279999  18543200.0   \n",
       "\n",
       "             Adj Close  \n",
       "Date                    \n",
       "2019-04-25  205.279999  "
      ]
     },
     "execution_count": 3,
     "metadata": {},
     "output_type": "execute_result"
    }
   ],
   "source": [
    "start = date(2019,1,21)\n",
    "end = date(2019,4,25)\n",
    "ticker = 'AAPL' \n",
    "data_source = 'yahoo'\n",
    "stock_data = DataReader(ticker, data_source, start, end)\n",
    "stock_data.tail()\n",
    "latest = stock_data.tail(1)\n",
    "latest"
   ]
  },
  {
   "cell_type": "markdown",
   "metadata": {},
   "source": [
    "## Several tickers, with plot"
   ]
  },
  {
   "cell_type": "code",
   "execution_count": 4,
   "metadata": {},
   "outputs": [
    {
     "data": {
      "image/png": "[encoded data removed]",
      "text/plain": [
       "<Figure size 432x288 with 2 Axes>"
      ]
     },
     "metadata": {
      "needs_background": "light"
     },
     "output_type": "display_data"
    },
    {
     "data": {
      "text/html": [
       "<div>\n",
       "<style scoped>\n",
       "    .dataframe tbody tr th:only-of-type {\n",
       "        vertical-align: middle;\n",
       "    }\n",
       "\n",
       "    .dataframe tbody tr th {\n",
       "        vertical-align: top;\n",
       "    }\n",
       "\n",
       "    .dataframe thead tr th {\n",
       "        text-align: left;\n",
       "    }\n",
       "\n",
       "    .dataframe thead tr:last-of-type th {\n",
       "        text-align: right;\n",
       "    }\n",
       "</style>\n",
       "<table border=\"1\" class=\"dataframe\">\n",
       "  <thead>\n",
       "    <tr>\n",
       "      <th>Attributes</th>\n",
       "      <th colspan=\"2\" halign=\"left\">High</th>\n",
       "      <th colspan=\"2\" halign=\"left\">Low</th>\n",
       "      <th colspan=\"2\" halign=\"left\">Open</th>\n",
       "      <th colspan=\"2\" halign=\"left\">Close</th>\n",
       "      <th colspan=\"2\" halign=\"left\">Volume</th>\n",
       "      <th colspan=\"2\" halign=\"left\">Adj Close</th>\n",
       "    </tr>\n",
       "    <tr>\n",
       "      <th>Symbols</th>\n",
       "      <th>AAPL</th>\n",
       "      <th>GOOG</th>\n",
       "      <th>AAPL</th>\n",
       "      <th>GOOG</th>\n",
       "      <th>AAPL</th>\n",
       "      <th>GOOG</th>\n",
       "      <th>AAPL</th>\n",
       "      <th>GOOG</th>\n",
       "      <th>AAPL</th>\n",
       "      <th>GOOG</th>\n",
       "      <th>AAPL</th>\n",
       "      <th>GOOG</th>\n",
       "    </tr>\n",
       "    <tr>\n",
       "      <th>Date</th>\n",
       "      <th></th>\n",
       "      <th></th>\n",
       "      <th></th>\n",
       "      <th></th>\n",
       "      <th></th>\n",
       "      <th></th>\n",
       "      <th></th>\n",
       "      <th></th>\n",
       "      <th></th>\n",
       "      <th></th>\n",
       "      <th></th>\n",
       "      <th></th>\n",
       "    </tr>\n",
       "  </thead>\n",
       "  <tbody>\n",
       "    <tr>\n",
       "      <th>2019-04-25</th>\n",
       "      <td>207.759995</td>\n",
       "      <td>1267.407959</td>\n",
       "      <td>205.119995</td>\n",
       "      <td>1252.030029</td>\n",
       "      <td>206.830002</td>\n",
       "      <td>1264.77002</td>\n",
       "      <td>205.279999</td>\n",
       "      <td>1263.449951</td>\n",
       "      <td>18543200.0</td>\n",
       "      <td>1107300.0</td>\n",
       "      <td>205.279999</td>\n",
       "      <td>1263.449951</td>\n",
       "    </tr>\n",
       "  </tbody>\n",
       "</table>\n",
       "</div>"
      ],
      "text/plain": [
       "Attributes        High                      Low                     Open  \\\n",
       "Symbols           AAPL         GOOG        AAPL         GOOG        AAPL   \n",
       "Date                                                                       \n",
       "2019-04-25  207.759995  1267.407959  205.119995  1252.030029  206.830002   \n",
       "\n",
       "Attributes                   Close                   Volume             \\\n",
       "Symbols           GOOG        AAPL         GOOG        AAPL       GOOG   \n",
       "Date                                                                     \n",
       "2019-04-25  1264.77002  205.279999  1263.449951  18543200.0  1107300.0   \n",
       "\n",
       "Attributes   Adj Close               \n",
       "Symbols           AAPL         GOOG  \n",
       "Date                                 \n",
       "2019-04-25  205.279999  1263.449951  "
      ]
     },
     "execution_count": 4,
     "metadata": {},
     "output_type": "execute_result"
    }
   ],
   "source": [
    "start = date(2019,1,21)\n",
    "end = date(2019,4,25)\n",
    "tickers = ['GOOG', 'AAPL'] #'BTC-USD'\n",
    "data_source = 'yahoo'\n",
    "stock_data = DataReader(tickers, data_source, start, end)\n",
    "stock_data.tail()\n",
    "stock_data['Close'].plot(title=tickers, subplots=True)\n",
    "plt.show()\n",
    "latest = stock_data.tail(1)\n",
    "latest"
   ]
  },
  {
   "cell_type": "markdown",
   "metadata": {},
   "source": [
    "# Currency exchange rate\n",
    "Source : https://www.exchangerate-api.com/docs/python-currency-api"
   ]
  },
  {
   "cell_type": "code",
   "execution_count": 5,
   "metadata": {},
   "outputs": [
    {
     "name": "stdout",
     "output_type": "stream",
     "text": [
      "2019-05-06\n",
      "one dollar costs 1.018582 CHF\n"
     ]
    }
   ],
   "source": [
    "import requests\n",
    "\n",
    "# Where USD is the base currency you want to use\n",
    "url = 'https://api.exchangerate-api.com/v4/latest/USD'\n",
    "\n",
    "# Making our request\n",
    "response = requests.get(url)\n",
    "data = response.json()\n",
    "\n",
    "print(data['date'])\n",
    "\n",
    "# Your JSON object\n",
    "one_dollar = data['rates']['CHF']\n",
    "print('one dollar costs', one_dollar, 'CHF')"
   ]
  },
  {
   "cell_type": "markdown",
   "metadata": {},
   "source": [
    "# See more...\n",
    "* https://longervision.github.io/2018/11/07/Finance/finance-data/\n",
    "* https://www.learndatasci.com/tutorials/python-finance-part-yahoo-finance-api-pandas-matplotlib/\n",
    "* http://www.quantatrisk.com/2015/04/24/how-to-find-a-company-name-given-a-stock-ticker-symbol-utilising-quandl-api/\n",
    "* https://www.quora.com/Using-Python-whats-the-best-way-to-get-stock-data"
   ]
  },
  {
   "cell_type": "code",
   "execution_count": null,
   "metadata": {
    "scrolled": true
   },
   "outputs": [],
   "source": [
    "#help(DataReader)"
   ]
  },
  {
   "cell_type": "code",
   "execution_count": 7,
   "metadata": {},
   "outputs": [
    {
     "name": "stdout",
     "output_type": "stream",
     "text": [
      "current price : 1185.40\n",
      "1185.4000244140625\n"
     ]
    }
   ],
   "source": [
    "start_date = date.today() - timedelta(4)\n",
    "ticker = 'GOOG'\n",
    "data_source = 'yahoo'\n",
    "try:\n",
    "    stock_data = DataReader(ticker, data_source, start=start_date)\n",
    "    last_close = float(stock_data.tail(1)['Close'])\n",
    "    print('current price : {:.2f}'.format(last_close))\n",
    "    print(last_close)\n",
    "    #print('JSON :')\n",
    "    #print(stock_data.to_dict)\n",
    "except :\n",
    "    print('Ticker', ticker, 'could not be found')\n",
    "    \n"
   ]
  },
  {
   "cell_type": "code",
   "execution_count": null,
   "metadata": {},
   "outputs": [],
   "source": []
  }
 ],
 "metadata": {
  "kernelspec": {
   "display_name": "Python 3",
   "language": "python",
   "name": "python3"
  },
  "language_info": {
   "codemirror_mode": {
    "name": "ipython",
    "version": 3
   },
   "file_extension": ".py",
   "mimetype": "text/x-python",
   "name": "python",
   "nbconvert_exporter": "python",
   "pygments_lexer": "ipython3",
   "version": "3.7.0"
  }
 },
 "nbformat": 4,
 "nbformat_minor": 2
}
