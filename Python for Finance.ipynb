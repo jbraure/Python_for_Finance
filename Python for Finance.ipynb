{
 "cells": [
  {
   "cell_type": "code",
   "execution_count": 43,
   "metadata": {
    "collapsed": true
   },
   "outputs": [
    {
     "name": "stdout",
     "output_type": "stream",
     "text": [
      "Requirement already satisfied: yahoo-finance in /Library/Frameworks/Python.framework/Versions/3.7/lib/python3.7/site-packages (1.4.0)\n",
      "Requirement already satisfied: pandas_datareader in /Library/Frameworks/Python.framework/Versions/3.7/lib/python3.7/site-packages (0.7.0)\n",
      "Requirement already satisfied: requests in /Library/Frameworks/Python.framework/Versions/3.7/lib/python3.7/site-packages (2.21.0)\n",
      "Requirement already satisfied: pytz in /Library/Frameworks/Python.framework/Versions/3.7/lib/python3.7/site-packages (from yahoo-finance) (2018.9)\n",
      "Requirement already satisfied: simplejson in /Library/Frameworks/Python.framework/Versions/3.7/lib/python3.7/site-packages (from yahoo-finance) (3.16.0)\n",
      "Requirement already satisfied: wrapt in /Library/Frameworks/Python.framework/Versions/3.7/lib/python3.7/site-packages (from pandas_datareader) (1.11.1)\n",
      "Requirement already satisfied: pandas>=0.19.2 in /Library/Frameworks/Python.framework/Versions/3.7/lib/python3.7/site-packages (from pandas_datareader) (0.24.1)\n",
      "Requirement already satisfied: lxml in /Library/Frameworks/Python.framework/Versions/3.7/lib/python3.7/site-packages (from pandas_datareader) (4.3.3)\n",
      "Requirement already satisfied: idna<2.9,>=2.5 in /Library/Frameworks/Python.framework/Versions/3.7/lib/python3.7/site-packages (from requests) (2.8)\n",
      "Requirement already satisfied: chardet<3.1.0,>=3.0.2 in /Library/Frameworks/Python.framework/Versions/3.7/lib/python3.7/site-packages (from requests) (3.0.4)\n",
      "Requirement already satisfied: certifi>=2017.4.17 in /Library/Frameworks/Python.framework/Versions/3.7/lib/python3.7/site-packages (from requests) (2019.3.9)\n",
      "Requirement already satisfied: urllib3<1.25,>=1.21.1 in /Library/Frameworks/Python.framework/Versions/3.7/lib/python3.7/site-packages (from requests) (1.24.2)\n",
      "Requirement already satisfied: numpy>=1.12.0 in /Library/Frameworks/Python.framework/Versions/3.7/lib/python3.7/site-packages (from pandas>=0.19.2->pandas_datareader) (1.15.2)\n",
      "Requirement already satisfied: python-dateutil>=2.5.0 in /Library/Frameworks/Python.framework/Versions/3.7/lib/python3.7/site-packages (from pandas>=0.19.2->pandas_datareader) (2.7.3)\n",
      "Requirement already satisfied: six>=1.5 in /Library/Frameworks/Python.framework/Versions/3.7/lib/python3.7/site-packages (from python-dateutil>=2.5.0->pandas>=0.19.2->pandas_datareader) (1.11.0)\n"
     ]
    }
   ],
   "source": [
    "import sys\n",
    "!{sys.executable} -m pip install yahoo-finance pandas_datareader requests"
   ]
  },
  {
   "cell_type": "markdown",
   "metadata": {},
   "source": [
    "# Get values from a stock\n",
    "Source : https://www.datacamp.com/courses/importing-managing-financial-data-in-python"
   ]
  },
  {
   "cell_type": "code",
   "execution_count": 18,
   "metadata": {},
   "outputs": [
    {
     "data": {
      "image/png": "[encoded data removed]",
      "text/plain": [
       "<Figure size 432x288 with 2 Axes>"
      ]
     },
     "metadata": {
      "needs_background": "light"
     },
     "output_type": "display_data"
    },
    {
     "data": {
      "text/html": [
       "<div>\n",
       "<style scoped>\n",
       "    .dataframe tbody tr th:only-of-type {\n",
       "        vertical-align: middle;\n",
       "    }\n",
       "\n",
       "    .dataframe tbody tr th {\n",
       "        vertical-align: top;\n",
       "    }\n",
       "\n",
       "    .dataframe thead tr th {\n",
       "        text-align: left;\n",
       "    }\n",
       "\n",
       "    .dataframe thead tr:last-of-type th {\n",
       "        text-align: right;\n",
       "    }\n",
       "</style>\n",
       "<table border=\"1\" class=\"dataframe\">\n",
       "  <thead>\n",
       "    <tr>\n",
       "      <th>Attributes</th>\n",
       "      <th colspan=\"2\" halign=\"left\">High</th>\n",
       "      <th colspan=\"2\" halign=\"left\">Low</th>\n",
       "      <th colspan=\"2\" halign=\"left\">Open</th>\n",
       "      <th colspan=\"2\" halign=\"left\">Close</th>\n",
       "      <th colspan=\"2\" halign=\"left\">Volume</th>\n",
       "      <th colspan=\"2\" halign=\"left\">Adj Close</th>\n",
       "    </tr>\n",
       "    <tr>\n",
       "      <th>Symbols</th>\n",
       "      <th>AAPL</th>\n",
       "      <th>GOOG</th>\n",
       "      <th>AAPL</th>\n",
       "      <th>GOOG</th>\n",
       "      <th>AAPL</th>\n",
       "      <th>GOOG</th>\n",
       "      <th>AAPL</th>\n",
       "      <th>GOOG</th>\n",
       "      <th>AAPL</th>\n",
       "      <th>GOOG</th>\n",
       "      <th>AAPL</th>\n",
       "      <th>GOOG</th>\n",
       "    </tr>\n",
       "    <tr>\n",
       "      <th>Date</th>\n",
       "      <th></th>\n",
       "      <th></th>\n",
       "      <th></th>\n",
       "      <th></th>\n",
       "      <th></th>\n",
       "      <th></th>\n",
       "      <th></th>\n",
       "      <th></th>\n",
       "      <th></th>\n",
       "      <th></th>\n",
       "      <th></th>\n",
       "      <th></th>\n",
       "    </tr>\n",
       "  </thead>\n",
       "  <tbody>\n",
       "    <tr>\n",
       "      <th>2019-04-18</th>\n",
       "      <td>204.149994</td>\n",
       "      <td>1242.0</td>\n",
       "      <td>202.520004</td>\n",
       "      <td>1234.609985</td>\n",
       "      <td>203.119995</td>\n",
       "      <td>1239.180054</td>\n",
       "      <td>203.860001</td>\n",
       "      <td>1236.369995</td>\n",
       "      <td>24195800.0</td>\n",
       "      <td>1331800.0</td>\n",
       "      <td>203.860001</td>\n",
       "      <td>1236.369995</td>\n",
       "    </tr>\n",
       "  </tbody>\n",
       "</table>\n",
       "</div>"
      ],
      "text/plain": [
       "Attributes        High                 Low                     Open  \\\n",
       "Symbols           AAPL    GOOG        AAPL         GOOG        AAPL   \n",
       "Date                                                                  \n",
       "2019-04-18  204.149994  1242.0  202.520004  1234.609985  203.119995   \n",
       "\n",
       "Attributes                    Close                   Volume             \\\n",
       "Symbols            GOOG        AAPL         GOOG        AAPL       GOOG   \n",
       "Date                                                                      \n",
       "2019-04-18  1239.180054  203.860001  1236.369995  24195800.0  1331800.0   \n",
       "\n",
       "Attributes   Adj Close               \n",
       "Symbols           AAPL         GOOG  \n",
       "Date                                 \n",
       "2019-04-18  203.860001  1236.369995  "
      ]
     },
     "execution_count": 18,
     "metadata": {},
     "output_type": "execute_result"
    }
   ],
   "source": [
    "import pandas as pd\n",
    "import matplotlib.pyplot as plt\n",
    "from datetime import date\n",
    "from pandas_datareader.data import DataReader\n",
    "\n",
    "start = date(2018,4,21)\n",
    "end = date(2019,4,21)\n",
    "tickers = ['GOOG', 'AAPL'] #'BTC-USD'\n",
    "data_source = 'yahoo'\n",
    "stock_data = DataReader(tickers, data_source, start, end)\n",
    "stock_data.tail()\n",
    "stock_data['Close'].plot(title=tickers, subplots=True)\n",
    "plt.show()\n",
    "latest = stock_data.tail(1)\n",
    "latest"
   ]
  },
  {
   "cell_type": "markdown",
   "metadata": {},
   "source": [
    "# Currency exchange rate\n",
    "Source : https://www.exchangerate-api.com/docs/python-currency-api"
   ]
  },
  {
   "cell_type": "code",
   "execution_count": 60,
   "metadata": {},
   "outputs": [
    {
     "name": "stdout",
     "output_type": "stream",
     "text": [
      "2019-04-22\n",
      "one dollar costs 1.012279 CHF\n"
     ]
    }
   ],
   "source": [
    "import requests\n",
    "\n",
    "# Where USD is the base currency you want to use\n",
    "url = 'https://api.exchangerate-api.com/v4/latest/USD'\n",
    "\n",
    "# Making our request\n",
    "response = requests.get(url)\n",
    "data = response.json()\n",
    "\n",
    "print(data['date'])\n",
    "\n",
    "# Your JSON object\n",
    "one_dollar = data['rates']['CHF']\n",
    "print('one dollar costs', one_dollar, 'CHF')"
   ]
  },
  {
   "cell_type": "markdown",
   "metadata": {},
   "source": [
    "# See more...\n",
    "* https://longervision.github.io/2018/11/07/Finance/finance-data/\n",
    "* https://www.learndatasci.com/tutorials/python-finance-part-yahoo-finance-api-pandas-matplotlib/\n",
    "* http://www.quantatrisk.com/2015/04/24/how-to-find-a-company-name-given-a-stock-ticker-symbol-utilising-quandl-api/\n",
    "* https://www.quora.com/Using-Python-whats-the-best-way-to-get-stock-data"
   ]
  },
  {
   "cell_type": "code",
   "execution_count": null,
   "metadata": {},
   "outputs": [],
   "source": []
  }
 ],
 "metadata": {
  "kernelspec": {
   "display_name": "Python 3",
   "language": "python",
   "name": "python3"
  },
  "language_info": {
   "codemirror_mode": {
    "name": "ipython",
    "version": 3
   },
   "file_extension": ".py",
   "mimetype": "text/x-python",
   "name": "python",
   "nbconvert_exporter": "python",
   "pygments_lexer": "ipython3",
   "version": "3.7.0"
  }
 },
 "nbformat": 4,
 "nbformat_minor": 2
}
